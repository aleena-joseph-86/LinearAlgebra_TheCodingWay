{
 "cells": [
  {
   "cell_type": "markdown",
   "id": "d9be1dad",
   "metadata": {},
   "source": [
    "# Coding Assignment 2"
   ]
  },
  {
   "cell_type": "markdown",
   "id": "f1463f16",
   "metadata": {},
   "source": [
    "# Problem Statement\n",
    "\n",
    "Let the matrix be [[2,1,0] [1,3,-1] [0,-1,4]]\n",
    "\n",
    "Write a piece of code to calculate the eigenvalue and eigenvector of matrix A. You may use Python functions to do calculate them. How can you verify that the eigenvectors that correspond to distinct eigenvalues are independent? Is there a way to code it in Python? Clue : Reduced Row Echelon.\n",
    "\n",
    "Solution:\n",
    "\n",
    "    1.Find the Eigenvalues and Eigenvectors of the given matrix.\n",
    "    2.\n",
    "        a)If we get distinct eigen values,we have to prove that the eigenvectors that corresponds to that eigenvalues are independent vectors.For that ,we have to use Reduced Row Echolon Form (RREF),In that if the number of pivot columns matches the number of distinct eigenvalues, it suggests that the eigenvectors corresponding to distinct eigenvalues are independent.\n",
    "        b)Otherwise linearly dependent"
   ]
  },
  {
   "cell_type": "code",
   "execution_count": 2,
   "id": "a59b6969",
   "metadata": {},
   "outputs": [
    {
     "name": "stdout",
     "output_type": "stream",
     "text": [
      "Eigenvalues:\n",
      "[1.26794919 3.         4.73205081]\n",
      "\n",
      "Eigenvectors:\n",
      "[[-0.78867513 -0.57735027 -0.21132487]\n",
      " [ 0.57735027 -0.57735027 -0.57735027]\n",
      " [ 0.21132487 -0.57735027  0.78867513]]\n",
      "Eigenvalues are distinct.\n",
      "Eigenvectors corresponding to distinct eigenvalues are independent.\n"
     ]
    }
   ],
   "source": [
    "# install numPy and sumPy libraries using pip command by running cmd in the administer mode\n",
    "# import numpy and sumpy libraries\n",
    "import numpy as np\n",
    "import sympy\n",
    "\n",
    "# declare and initialize the matrix\n",
    "given_matrix = np.array([[2, 1, 0], [1, 3, -1],[0, -1, 4]])\n",
    "\n",
    "# find eigenvalues and eigenvectors using np.linalg.eig() \n",
    "eigenvalues, eigenvectors = np.linalg.eig(given_matrix)\n",
    "\n",
    "# display the eigenvalues and the eigenvectors found\n",
    "print(\"Eigenvalues:\")\n",
    "print(eigenvalues)\n",
    "print(\"\\nEigenvectors:\")\n",
    "print(eigenvectors)\n",
    "\n",
    "# Check whether any eigenvalue is repeated(i.e check whether the eigen value is distinct or not)\n",
    "distinct_eigenvalues = np.unique(eigenvalues)\n",
    "if len(distinct_eigenvalues) != len(eigenvalues):\n",
    "    print(\"Eigenvalues are not distinct.\")\n",
    "else:\n",
    "    print(\"Eigenvalues are distinct.\")\n",
    "\n",
    "# Form matrix with eigenvectors corresponding to distinct eigenvalues\n",
    "eigenvectors_matrix = np.column_stack([eigenvectors[:,i] for i in range(len(eigenvalues))])\n",
    "\n",
    "# Convert matrix to RREF\n",
    "# in order to find the reduced row element form(rref) directly we use symPy library,as we dont have any direct methods in numPy\n",
    "# first convert numpy.array to sympy.matrix and then use rref() of symPy library \n",
    "rref_matrix, pivot_columns = sympy.Matrix(eigenvectors_matrix).rref()\n",
    "\n",
    "# Check if the number of pivot columns matches the number of distinct eigenvalues\n",
    "# if yes->independent else->dependent\n",
    "if len(pivot_columns) == len(distinct_eigenvalues):\n",
    "        print(\"Eigenvectors corresponding to distinct eigenvalues are independent.\")\n",
    "    else:\n",
    "        print(\"Eigenvectors corresponding to distinct eigenvalues are dependent.\")"
   ]
  },
  {
   "cell_type": "code",
   "execution_count": null,
   "id": "94154e07",
   "metadata": {},
   "outputs": [],
   "source": []
  }
 ],
 "metadata": {
  "kernelspec": {
   "display_name": "Python 3 (ipykernel)",
   "language": "python",
   "name": "python3"
  },
  "language_info": {
   "codemirror_mode": {
    "name": "ipython",
    "version": 3
   },
   "file_extension": ".py",
   "mimetype": "text/x-python",
   "name": "python",
   "nbconvert_exporter": "python",
   "pygments_lexer": "ipython3",
   "version": "3.11.5"
  }
 },
 "nbformat": 4,
 "nbformat_minor": 5
}
